{
 "cells": [
  {
   "cell_type": "code",
   "execution_count": 6,
   "id": "91f442f7-4272-48c5-b388-a49b7583ba8e",
   "metadata": {},
   "outputs": [],
   "source": [
    "# Імпортування бібліотеки\n",
    "import pandas as pd"
   ]
  },
  {
   "cell_type": "code",
   "execution_count": 10,
   "id": "299d93ca-7390-4298-821e-0810c897f975",
   "metadata": {},
   "outputs": [],
   "source": [
    "sales = pd.read_excel('sales.xlsx')"
   ]
  },
  {
   "cell_type": "code",
   "execution_count": 11,
   "id": "badb5f91-5f17-49cb-bf4e-f15ba2b55ec5",
   "metadata": {},
   "outputs": [
    {
     "data": {
      "text/html": [
       "<div>\n",
       "<style scoped>\n",
       "    .dataframe tbody tr th:only-of-type {\n",
       "        vertical-align: middle;\n",
       "    }\n",
       "\n",
       "    .dataframe tbody tr th {\n",
       "        vertical-align: top;\n",
       "    }\n",
       "\n",
       "    .dataframe thead th {\n",
       "        text-align: right;\n",
       "    }\n",
       "</style>\n",
       "<table border=\"1\" class=\"dataframe\">\n",
       "  <thead>\n",
       "    <tr style=\"text-align: right;\">\n",
       "      <th></th>\n",
       "      <th>CONTINENT</th>\n",
       "      <th>COUNTRY_REGION</th>\n",
       "      <th>DELIVERY_DATE</th>\n",
       "      <th>ORDER_DATE</th>\n",
       "      <th>PRODUCT</th>\n",
       "      <th>QUANTITY</th>\n",
       "      <th>UNIT_PRICE</th>\n",
       "      <th>UNIT_DISCOUNT</th>\n",
       "      <th>UNIT_NET_PRICE</th>\n",
       "      <th>UNIT_COST</th>\n",
       "      <th>PROFIT</th>\n",
       "    </tr>\n",
       "  </thead>\n",
       "  <tbody>\n",
       "    <tr>\n",
       "      <th>0</th>\n",
       "      <td>Asia</td>\n",
       "      <td>China</td>\n",
       "      <td>2008-11-27</td>\n",
       "      <td>2008-11-21</td>\n",
       "      <td>Cameras</td>\n",
       "      <td>1</td>\n",
       "      <td>188.5</td>\n",
       "      <td>28.28</td>\n",
       "      <td>160.225</td>\n",
       "      <td>86.68</td>\n",
       "      <td>73.545</td>\n",
       "    </tr>\n",
       "    <tr>\n",
       "      <th>1</th>\n",
       "      <td>Asia</td>\n",
       "      <td>China</td>\n",
       "      <td>2008-11-27</td>\n",
       "      <td>2008-11-21</td>\n",
       "      <td>Cameras</td>\n",
       "      <td>1</td>\n",
       "      <td>188.5</td>\n",
       "      <td>28.28</td>\n",
       "      <td>160.225</td>\n",
       "      <td>86.68</td>\n",
       "      <td>73.545</td>\n",
       "    </tr>\n",
       "    <tr>\n",
       "      <th>2</th>\n",
       "      <td>Asia</td>\n",
       "      <td>China</td>\n",
       "      <td>2008-11-28</td>\n",
       "      <td>2008-11-21</td>\n",
       "      <td>Cameras</td>\n",
       "      <td>1</td>\n",
       "      <td>188.5</td>\n",
       "      <td>28.28</td>\n",
       "      <td>160.225</td>\n",
       "      <td>86.68</td>\n",
       "      <td>73.545</td>\n",
       "    </tr>\n",
       "    <tr>\n",
       "      <th>3</th>\n",
       "      <td>Asia</td>\n",
       "      <td>China</td>\n",
       "      <td>2008-11-28</td>\n",
       "      <td>2008-11-21</td>\n",
       "      <td>Cameras</td>\n",
       "      <td>1</td>\n",
       "      <td>188.5</td>\n",
       "      <td>28.28</td>\n",
       "      <td>160.225</td>\n",
       "      <td>86.68</td>\n",
       "      <td>73.545</td>\n",
       "    </tr>\n",
       "    <tr>\n",
       "      <th>4</th>\n",
       "      <td>Asia</td>\n",
       "      <td>China</td>\n",
       "      <td>2008-11-29</td>\n",
       "      <td>2008-11-21</td>\n",
       "      <td>Cameras</td>\n",
       "      <td>1</td>\n",
       "      <td>188.5</td>\n",
       "      <td>28.28</td>\n",
       "      <td>160.225</td>\n",
       "      <td>86.68</td>\n",
       "      <td>73.545</td>\n",
       "    </tr>\n",
       "  </tbody>\n",
       "</table>\n",
       "</div>"
      ],
      "text/plain": [
       "  CONTINENT COUNTRY_REGION DELIVERY_DATE ORDER_DATE  PRODUCT  QUANTITY  \\\n",
       "0      Asia          China    2008-11-27 2008-11-21  Cameras         1   \n",
       "1      Asia          China    2008-11-27 2008-11-21  Cameras         1   \n",
       "2      Asia          China    2008-11-28 2008-11-21  Cameras         1   \n",
       "3      Asia          China    2008-11-28 2008-11-21  Cameras         1   \n",
       "4      Asia          China    2008-11-29 2008-11-21  Cameras         1   \n",
       "\n",
       "   UNIT_PRICE  UNIT_DISCOUNT  UNIT_NET_PRICE  UNIT_COST  PROFIT  \n",
       "0       188.5          28.28         160.225      86.68  73.545  \n",
       "1       188.5          28.28         160.225      86.68  73.545  \n",
       "2       188.5          28.28         160.225      86.68  73.545  \n",
       "3       188.5          28.28         160.225      86.68  73.545  \n",
       "4       188.5          28.28         160.225      86.68  73.545  "
      ]
     },
     "execution_count": 11,
     "metadata": {},
     "output_type": "execute_result"
    }
   ],
   "source": [
    "sales.head(5)"
   ]
  },
  {
   "cell_type": "code",
   "execution_count": 66,
   "id": "d581c5d0-87b2-44c4-9599-737d8643fe22",
   "metadata": {},
   "outputs": [
    {
     "data": {
      "text/html": [
       "<div>\n",
       "<style scoped>\n",
       "    .dataframe tbody tr th:only-of-type {\n",
       "        vertical-align: middle;\n",
       "    }\n",
       "\n",
       "    .dataframe tbody tr th {\n",
       "        vertical-align: top;\n",
       "    }\n",
       "\n",
       "    .dataframe thead th {\n",
       "        text-align: right;\n",
       "    }\n",
       "</style>\n",
       "<table border=\"1\" class=\"dataframe\">\n",
       "  <thead>\n",
       "    <tr style=\"text-align: right;\">\n",
       "      <th></th>\n",
       "      <th>CONTINENT</th>\n",
       "      <th>COUNTRY_REGION</th>\n",
       "      <th>DELIVERY_DATE</th>\n",
       "      <th>ORDER_DATE</th>\n",
       "      <th>PRODUCT</th>\n",
       "      <th>QUANTITY</th>\n",
       "      <th>UNIT_PRICE</th>\n",
       "      <th>UNIT_DISCOUNT</th>\n",
       "      <th>UNIT_NET_PRICE</th>\n",
       "      <th>UNIT_COST</th>\n",
       "      <th>PROFIT</th>\n",
       "      <th>discount</th>\n",
       "    </tr>\n",
       "  </thead>\n",
       "  <tbody>\n",
       "    <tr>\n",
       "      <th>0</th>\n",
       "      <td>Asia</td>\n",
       "      <td>China</td>\n",
       "      <td>2008-11-27</td>\n",
       "      <td>2008-11-21</td>\n",
       "      <td>Cameras</td>\n",
       "      <td>1</td>\n",
       "      <td>188.5</td>\n",
       "      <td>28.28</td>\n",
       "      <td>160.225</td>\n",
       "      <td>86.68</td>\n",
       "      <td>73.545</td>\n",
       "      <td>1</td>\n",
       "    </tr>\n",
       "    <tr>\n",
       "      <th>1</th>\n",
       "      <td>Asia</td>\n",
       "      <td>China</td>\n",
       "      <td>2008-11-27</td>\n",
       "      <td>2008-11-21</td>\n",
       "      <td>Cameras</td>\n",
       "      <td>1</td>\n",
       "      <td>188.5</td>\n",
       "      <td>28.28</td>\n",
       "      <td>160.225</td>\n",
       "      <td>86.68</td>\n",
       "      <td>73.545</td>\n",
       "      <td>1</td>\n",
       "    </tr>\n",
       "    <tr>\n",
       "      <th>2</th>\n",
       "      <td>Asia</td>\n",
       "      <td>China</td>\n",
       "      <td>2008-11-28</td>\n",
       "      <td>2008-11-21</td>\n",
       "      <td>Cameras</td>\n",
       "      <td>1</td>\n",
       "      <td>188.5</td>\n",
       "      <td>28.28</td>\n",
       "      <td>160.225</td>\n",
       "      <td>86.68</td>\n",
       "      <td>73.545</td>\n",
       "      <td>1</td>\n",
       "    </tr>\n",
       "    <tr>\n",
       "      <th>3</th>\n",
       "      <td>Asia</td>\n",
       "      <td>China</td>\n",
       "      <td>2008-11-28</td>\n",
       "      <td>2008-11-21</td>\n",
       "      <td>Cameras</td>\n",
       "      <td>1</td>\n",
       "      <td>188.5</td>\n",
       "      <td>28.28</td>\n",
       "      <td>160.225</td>\n",
       "      <td>86.68</td>\n",
       "      <td>73.545</td>\n",
       "      <td>1</td>\n",
       "    </tr>\n",
       "    <tr>\n",
       "      <th>4</th>\n",
       "      <td>Asia</td>\n",
       "      <td>China</td>\n",
       "      <td>2008-11-29</td>\n",
       "      <td>2008-11-21</td>\n",
       "      <td>Cameras</td>\n",
       "      <td>1</td>\n",
       "      <td>188.5</td>\n",
       "      <td>28.28</td>\n",
       "      <td>160.225</td>\n",
       "      <td>86.68</td>\n",
       "      <td>73.545</td>\n",
       "      <td>1</td>\n",
       "    </tr>\n",
       "  </tbody>\n",
       "</table>\n",
       "</div>"
      ],
      "text/plain": [
       "  CONTINENT COUNTRY_REGION DELIVERY_DATE ORDER_DATE  PRODUCT  QUANTITY  \\\n",
       "0      Asia          China    2008-11-27 2008-11-21  Cameras         1   \n",
       "1      Asia          China    2008-11-27 2008-11-21  Cameras         1   \n",
       "2      Asia          China    2008-11-28 2008-11-21  Cameras         1   \n",
       "3      Asia          China    2008-11-28 2008-11-21  Cameras         1   \n",
       "4      Asia          China    2008-11-29 2008-11-21  Cameras         1   \n",
       "\n",
       "   UNIT_PRICE  UNIT_DISCOUNT  UNIT_NET_PRICE  UNIT_COST  PROFIT  discount  \n",
       "0       188.5          28.28         160.225      86.68  73.545         1  \n",
       "1       188.5          28.28         160.225      86.68  73.545         1  \n",
       "2       188.5          28.28         160.225      86.68  73.545         1  \n",
       "3       188.5          28.28         160.225      86.68  73.545         1  \n",
       "4       188.5          28.28         160.225      86.68  73.545         1  "
      ]
     },
     "execution_count": 66,
     "metadata": {},
     "output_type": "execute_result"
    }
   ],
   "source": [
    "# виконання розрахунків\n",
    "sales['discount'] = sales['UNIT_DISCOUNT'].apply(lambda x: 0 if x == 0 else 1)\n",
    "\n",
    "# перевірка результату\n",
    "sales.head(5)"
   ]
  },
  {
   "cell_type": "code",
   "execution_count": 67,
   "id": "81eed010-464e-4f4d-bc8c-2a591789e108",
   "metadata": {},
   "outputs": [],
   "source": [
    "# агрегація даних\n",
    "orders_qnt = sales.groupby('ORDER_DATE')['QUANTITY'].sum()\n",
    "orders_discount = sales.groupby('ORDER_DATE')['discount'].sum()"
   ]
  },
  {
   "cell_type": "code",
   "execution_count": 60,
   "id": "cdcc95f2-8d93-41ff-a6dd-ea40a4d2f68f",
   "metadata": {},
   "outputs": [
    {
     "name": "stdout",
     "output_type": "stream",
     "text": [
      "Requirement already satisfied: pandas in c:\\users\\oslobodi\\appdata\\local\\anaconda3\\lib\\site-packages (2.1.4)Note: you may need to restart the kernel to use updated packages.\n",
      "\n",
      "Requirement already satisfied: scipy in c:\\users\\oslobodi\\appdata\\local\\anaconda3\\lib\\site-packages (1.11.4)\n",
      "Requirement already satisfied: numpy<2,>=1.23.2 in c:\\users\\oslobodi\\appdata\\local\\anaconda3\\lib\\site-packages (from pandas) (1.26.4)\n",
      "Requirement already satisfied: python-dateutil>=2.8.2 in c:\\users\\oslobodi\\appdata\\local\\anaconda3\\lib\\site-packages (from pandas) (2.8.2)\n",
      "Requirement already satisfied: pytz>=2020.1 in c:\\users\\oslobodi\\appdata\\local\\anaconda3\\lib\\site-packages (from pandas) (2023.3.post1)\n",
      "Requirement already satisfied: tzdata>=2022.1 in c:\\users\\oslobodi\\appdata\\local\\anaconda3\\lib\\site-packages (from pandas) (2023.3)\n",
      "Requirement already satisfied: six>=1.5 in c:\\users\\oslobodi\\appdata\\local\\anaconda3\\lib\\site-packages (from python-dateutil>=2.8.2->pandas) (1.16.0)\n"
     ]
    }
   ],
   "source": [
    "pip install pandas scipy"
   ]
  },
  {
   "cell_type": "code",
   "execution_count": 68,
   "id": "bcfce831-5baa-453e-ab14-0678bc046866",
   "metadata": {},
   "outputs": [
    {
     "name": "stdout",
     "output_type": "stream",
     "text": [
      "Коефіцієнт кореляції Пірсона: 0.3831515115162835\n",
      "p-значення (Пірсон): 1.1550232621655703e-36\n"
     ]
    }
   ],
   "source": [
    "# Розрахунок коефіцієнта кореляції Пірсона\n",
    "pearson_corr, pearson_p_value = pearsonr(orders_qnt, orders_discount)\n",
    "print(f'Коефіцієнт кореляції Пірсона: {pearson_corr}')\n",
    "print(f'p-значення (Пірсон): {pearson_p_value}')"
   ]
  },
  {
   "cell_type": "code",
   "execution_count": 69,
   "id": "6125aaef-164d-49f9-a251-5c3c29742352",
   "metadata": {},
   "outputs": [
    {
     "name": "stdout",
     "output_type": "stream",
     "text": [
      "Є статистично значуща лінійна залежність між двома наборами даних (Пірсон).\n"
     ]
    }
   ],
   "source": [
    "# Інтерпретація результатів\n",
    "if pearson_p_value < 0.05:\n",
    "    print('Є статистично значуща лінійна залежність між двома наборами даних (Пірсон).')\n",
    "else:\n",
    "    print('Немає статистично значущої лінійної залежності між двома наборами даних (Пірсон).')\n"
   ]
  }
 ],
 "metadata": {
  "kernelspec": {
   "display_name": "Python 3 (ipykernel)",
   "language": "python",
   "name": "python3"
  },
  "language_info": {
   "codemirror_mode": {
    "name": "ipython",
    "version": 3
   },
   "file_extension": ".py",
   "mimetype": "text/x-python",
   "name": "python",
   "nbconvert_exporter": "python",
   "pygments_lexer": "ipython3",
   "version": "3.11.7"
  }
 },
 "nbformat": 4,
 "nbformat_minor": 5
}
